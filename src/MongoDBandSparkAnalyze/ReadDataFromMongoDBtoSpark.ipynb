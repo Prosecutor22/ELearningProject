{
 "cells": [
  {
   "cell_type": "code",
   "execution_count": 17,
   "id": "79e806f4",
   "metadata": {},
   "outputs": [],
   "source": [
    "# In this notebook, we will read data from MongoDB to Spark by MongoDB-Spark_Connector\n",
    "#Please read the requirement in README.md"
   ]
  },
  {
   "cell_type": "code",
   "execution_count": 2,
   "id": "6ac2d20f",
   "metadata": {},
   "outputs": [],
   "source": [
    "import pyspark\n",
    "from pyspark import SparkContext\n",
    "from pyspark.sql import SparkSession\n",
    "from pyspark.sql import SQLContext"
   ]
  },
  {
   "cell_type": "code",
   "execution_count": 3,
   "id": "fb8f2c66",
   "metadata": {},
   "outputs": [
    {
     "name": "stdout",
     "output_type": "stream",
     "text": [
      "3.2.1\n"
     ]
    }
   ],
   "source": [
    "print(pyspark.__version__)"
   ]
  },
  {
   "cell_type": "code",
   "execution_count": 4,
   "id": "0ac7f63a",
   "metadata": {},
   "outputs": [],
   "source": [
    "conf = pyspark.SparkConf().set(\"spark.jars.packages\", \n",
    "        \"org.mongodb.spark:mongo-spark-connector_2.12:3.0.1\").setMaster(\"local\").setAppName(\"MyApp\").setAll([(\"spark.driver.memory\", \"40g\"), (\"spark.executor.memory\", \"50g\")])"
   ]
  },
  {
   "cell_type": "code",
   "execution_count": 5,
   "id": "e8a80e4a",
   "metadata": {},
   "outputs": [],
   "source": [
    "sc = SparkContext(conf=conf)"
   ]
  },
  {
   "cell_type": "code",
   "execution_count": 6,
   "id": "8180a498",
   "metadata": {},
   "outputs": [
    {
     "name": "stderr",
     "output_type": "stream",
     "text": [
      "c:\\users\\phanp\\appdata\\local\\programs\\python\\python37\\lib\\site-packages\\pyspark\\sql\\context.py:79: FutureWarning: Deprecated in 3.0.0. Use SparkSession.builder.getOrCreate() instead.\n",
      "  FutureWarning\n"
     ]
    }
   ],
   "source": [
    "sqlC = SQLContext(sc)"
   ]
  },
  {
   "cell_type": "code",
   "execution_count": 9,
   "id": "b31c11c2",
   "metadata": {},
   "outputs": [],
   "source": [
    "mongo_ip = \"mongodb://localhost:27017/Data.\""
   ]
  },
  {
   "cell_type": "code",
   "execution_count": 10,
   "id": "dd8a27d4",
   "metadata": {},
   "outputs": [],
   "source": [
    "data = sqlC.read.format(\"com.mongodb.spark.sql.DefaultSource\").option(\"uri\", mongo_ip + \"data\").load()"
   ]
  },
  {
   "cell_type": "code",
   "execution_count": 11,
   "id": "9fe69372",
   "metadata": {},
   "outputs": [],
   "source": [
    "data.createOrReplaceTempView(\"data\")"
   ]
  },
  {
   "cell_type": "code",
   "execution_count": 12,
   "id": "cae4dc43",
   "metadata": {},
   "outputs": [],
   "source": [
    "data = sqlC.sql(\"SELECT * FROM data\")"
   ]
  },
  {
   "cell_type": "code",
   "execution_count": 16,
   "id": "f1113019",
   "metadata": {},
   "outputs": [
    {
     "name": "stdout",
     "output_type": "stream",
     "text": [
      "DataFrame[ApplicantName: string, AtRisk: string, AtRiskSSC: string, AttemptCount: string, CGPA: string, CW1: string, CW2: string, ESE: string, HighRisk: string, Likes: int, Online C: string, Online O: string, OtherModules: string, Paused: int, PlagiarismHistory: string, Played: int, Probation: string, RemoteStudent: string, Result: string, Segment: int, TermExceeded: string, _id: struct<oid:string>]\n"
     ]
    }
   ],
   "source": [
    "print(data)"
   ]
  },
  {
   "cell_type": "code",
   "execution_count": null,
   "id": "1705f0d5",
   "metadata": {},
   "outputs": [],
   "source": []
  }
 ],
 "metadata": {
  "kernelspec": {
   "display_name": "Python 3 (ipykernel)",
   "language": "python",
   "name": "python3"
  },
  "language_info": {
   "codemirror_mode": {
    "name": "ipython",
    "version": 3
   },
   "file_extension": ".py",
   "mimetype": "text/x-python",
   "name": "python",
   "nbconvert_exporter": "python",
   "pygments_lexer": "ipython3",
   "version": "3.7.9"
  }
 },
 "nbformat": 4,
 "nbformat_minor": 5
}
