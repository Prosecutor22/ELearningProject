{
  "nbformat": 4,
  "nbformat_minor": 0,
  "metadata": {
    "colab": {
      "name": "OS mr.ipynb",
      "provenance": [],
      "collapsed_sections": [],
      "authorship_tag": "ABX9TyMq0US7PpWj34mg8RDOYCKQ",
      "include_colab_link": true
    },
    "kernelspec": {
      "name": "python3",
      "display_name": "Python 3"
    },
    "language_info": {
      "name": "python"
    }
  },
  "cells": [
    {
      "cell_type": "markdown",
      "metadata": {
        "id": "view-in-github",
        "colab_type": "text"
      },
      "source": [
        "<a href=\"https://colab.research.google.com/github/anduc146khmt/E-LearningProject_KSTN_HK212/blob/master/OS_mr.ipynb\" target=\"_parent\"><img src=\"https://colab.research.google.com/assets/colab-badge.svg\" alt=\"Open In Colab\"/></a>"
      ]
    },
    {
      "cell_type": "code",
      "source": [
        "!pip install pyspark\n",
        "!apt-get -qq install -y graphviz && pip install pyspark"
      ],
      "metadata": {
        "colab": {
          "base_uri": "https://localhost:8080/"
        },
        "id": "sdYhHJzd4Pn_",
        "outputId": "d106efd2-eb57-4442-cc06-6684bfd77eb9"
      },
      "execution_count": null,
      "outputs": [
        {
          "output_type": "stream",
          "name": "stdout",
          "text": [
            "Collecting pyspark\n",
            "  Downloading pyspark-3.2.1.tar.gz (281.4 MB)\n",
            "\u001b[K     |████████████████████████████████| 281.4 MB 27 kB/s \n",
            "\u001b[?25hCollecting py4j==0.10.9.3\n",
            "  Downloading py4j-0.10.9.3-py2.py3-none-any.whl (198 kB)\n",
            "\u001b[K     |████████████████████████████████| 198 kB 33.1 MB/s \n",
            "\u001b[?25hBuilding wheels for collected packages: pyspark\n",
            "  Building wheel for pyspark (setup.py) ... \u001b[?25l\u001b[?25hdone\n",
            "  Created wheel for pyspark: filename=pyspark-3.2.1-py2.py3-none-any.whl size=281853642 sha256=eff7ad1377e039171903ed5b6224e76ad1feda10ee4f211d29c40e10fbac3629\n",
            "  Stored in directory: /root/.cache/pip/wheels/9f/f5/07/7cd8017084dce4e93e84e92efd1e1d5334db05f2e83bcef74f\n",
            "Successfully built pyspark\n",
            "Installing collected packages: py4j, pyspark\n",
            "Successfully installed py4j-0.10.9.3 pyspark-3.2.1\n",
            "Requirement already satisfied: pyspark in /usr/local/lib/python3.7/dist-packages (3.2.1)\n",
            "Requirement already satisfied: py4j==0.10.9.3 in /usr/local/lib/python3.7/dist-packages (from pyspark) (0.10.9.3)\n"
          ]
        }
      ]
    },
    {
      "cell_type": "markdown",
      "source": [
        "**Import library and module**"
      ],
      "metadata": {
        "id": "1wQ0-lD7VdmK"
      }
    },
    {
      "cell_type": "code",
      "execution_count": null,
      "metadata": {
        "id": "e_-VpyW-L4hl"
      },
      "outputs": [],
      "source": [
        "import pandas\n",
        "import pyspark\n",
        "from sklearn import tree\n",
        "from sklearn.tree import DecisionTreeClassifier\n",
        "from pyspark.sql import SparkSession\n",
        "from pyspark.sql import SparkSession\n",
        "from pyspark.sql import Row"
      ]
    },
    {
      "cell_type": "markdown",
      "source": [
        "**Read dataset**"
      ],
      "metadata": {
        "id": "cuIGQaiIVaa7"
      }
    },
    {
      "cell_type": "code",
      "source": [
        "df = pandas.read_csv(r'Final Dataset.csv').copy()\n",
        "df_train = df[0: int(len(df) * 0.8)]\n",
        "df_test = df[int(len(df) * 0.8) + 1:]\n",
        "# print(df_train)\n",
        "# print(df_test)"
      ],
      "metadata": {
        "id": "kdvpQ2-V4wZY"
      },
      "execution_count": null,
      "outputs": []
    },
    {
      "cell_type": "markdown",
      "source": [
        "To make a decision tree, all data has to be numerical."
      ],
      "metadata": {
        "id": "r2DVTeuuVqE_"
      }
    },
    {
      "cell_type": "code",
      "source": [
        "import copy\n",
        "from collections import defaultdict\n",
        "Title = list(df.columns)\n",
        "# delete Student name and Result\n",
        "features = copy.deepcopy(Title[1 : ])\n",
        "Dict = defaultdict(lambda: -1)\n",
        "for hd in features:\n",
        "  key = set(df_train[str(hd)])\n",
        "  key = list(key)\n",
        "  dictt = defaultdict(lambda: -1)\n",
        "  for i in range(0, len(key)):\n",
        "    dictt[key[i]] = i\n",
        "  Dict[hd] = dictt\n",
        "  df_train[hd] = df_train[hd].map(dictt)\n",
        "  # print(dictt)\n",
        "# print(df_train)\n",
        "print(Dict)"
      ],
      "metadata": {
        "colab": {
          "base_uri": "https://localhost:8080/"
        },
        "id": "-AErK6XbVpvY",
        "outputId": "46ffea50-ba58-44c2-8672-aaacc2f5748e"
      },
      "execution_count": null,
      "outputs": [
        {
          "output_type": "stream",
          "name": "stdout",
          "text": [
            "defaultdict(<function <lambda> at 0x7f44a15987a0>, {'CGPA': defaultdict(<function <lambda> at 0x7f44a26f4b90>, {'Poor': 0, 'Fair': 1, 'Good': 2, 'Excellent': 3, 'Very Good': 4, 'Adequate': 5}), 'AttemptCount': defaultdict(<function <lambda> at 0x7f44a1598ef0>, {'Medium': 0, 'Low': 1, 'High': 2}), 'RemoteStudent': defaultdict(<function <lambda> at 0x7f44a148d050>, {'No': 0}), 'Probation': defaultdict(<function <lambda> at 0x7f44a148d0e0>, {'Yes': 0, 'No': 1}), 'HighRisk': defaultdict(<function <lambda> at 0x7f44a148d170>, {'Yes': 0, 'No': 1}), 'TermExceeded': defaultdict(<function <lambda> at 0x7f44a148d200>, {'Yes': 0, 'No': 1}), 'AtRisk': defaultdict(<function <lambda> at 0x7f44a148d290>, {'Yes': 0, 'No': 1}), 'AtRiskSSC': defaultdict(<function <lambda> at 0x7f44a148d320>, {'Yes': 0, 'No': 1}), 'OtherModules': defaultdict(<function <lambda> at 0x7f44a148d3b0>, {'Low': 0, 'High': 1, 'Medium': 2}), 'PlagiarismHistory': defaultdict(<function <lambda> at 0x7f44a148d4d0>, {'Medium': 0, 'Low': 1}), 'CW1': defaultdict(<function <lambda> at 0x7f44a148d560>, {'Fail': 0, 'Fair': 1, 'Good': 2, 'Excellent': 3, 'Very Good': 4, 'Adequate': 5}), 'CW2': defaultdict(<function <lambda> at 0x7f44a148d440>, {'Fail': 0, 'Fair': 1, 'Good': 2, 'Excellent': 3, 'Very Good': 4, 'Adequate': 5}), 'ESE': defaultdict(<function <lambda> at 0x7f44a148d5f0>, {'Fail': 0, 'Fair': 1, 'Good': 2, 'Excellent': 3, 'Very Good': 4, 'Adequate': 5}), 'Online C': defaultdict(<function <lambda> at 0x7f44a148d680>, {'Poor': 0, 'Fair': 1, 'Good': 2, 'Excellent': 3, 'Very Good': 4, 'Adequate': 5}), 'Online O': defaultdict(<function <lambda> at 0x7f44a148d710>, {'Poor': 0, 'Fair': 1, 'Good': 2, 'Excellent': 3, 'Very Good': 4, 'Adequate': 5}), 'Played': defaultdict(<function <lambda> at 0x7f44a148d7a0>, {0: 0, 1: 1, 2: 2, 3: 3, 4: 4, 5: 5, 6: 6, 8: 7}), 'Paused': defaultdict(<function <lambda> at 0x7f44a148d830>, {0: 0, 1: 1, 2: 2, 3: 3, 4: 4, 5: 5, 6: 6, 7: 7, 13: 8}), 'Likes': defaultdict(<function <lambda> at 0x7f44a148d8c0>, {0: 0, 1: 1, 2: 2, 3: 3}), 'Segment': defaultdict(<function <lambda> at 0x7f44a148d950>, {0: 0, 1: 1, 2: 2, 3: 3, 4: 4, 5: 5, 7: 6}), 'Result': defaultdict(<function <lambda> at 0x7f44a148d9e0>, {'Fail': 0, 'Pass': 1})})\n"
          ]
        },
        {
          "output_type": "stream",
          "name": "stderr",
          "text": [
            "/usr/local/lib/python3.7/dist-packages/ipykernel_launcher.py:14: SettingWithCopyWarning: \n",
            "A value is trying to be set on a copy of a slice from a DataFrame.\n",
            "Try using .loc[row_indexer,col_indexer] = value instead\n",
            "\n",
            "See the caveats in the documentation: https://pandas.pydata.org/pandas-docs/stable/user_guide/indexing.html#returning-a-view-versus-a-copy\n",
            "  \n"
          ]
        }
      ]
    },
    {
      "cell_type": "markdown",
      "source": [
        "**Decision Tree**"
      ],
      "metadata": {
        "id": "VMfWWOScanO6"
      }
    },
    {
      "cell_type": "code",
      "source": [
        "X = df_train[features[:-1]] #remove Results\n",
        "y = df_train[features[-1]]\n",
        "dtree = DecisionTreeClassifier()\n",
        "dtree = dtree.fit(X.values, y.values)"
      ],
      "metadata": {
        "id": "cP3mh8-IalbF"
      },
      "execution_count": null,
      "outputs": []
    },
    {
      "cell_type": "markdown",
      "source": [
        "**Prediction**"
      ],
      "metadata": {
        "id": "_qlKuaKRasU5"
      }
    },
    {
      "cell_type": "code",
      "source": [
        "def get_key(val):\n",
        "    for key, value in Dict['Result'].items():\n",
        "         if val == value:\n",
        "             return key\n",
        " \n",
        "    return \"key doesn't exist\"\n",
        "\n",
        "# how % model correct\n",
        "fre = 0\n",
        "for i in range(int(len(df) * 0.8) + 1, len(df)):\n",
        "  data_row = df_test.loc[i][features[:-1]]\n",
        "  # print(data_row)\n",
        "  for hd in features[:-1]:\n",
        "    # print(data_row[str(hd)])\n",
        "    # if Dict is new, update new key and value\n",
        "    if (Dict[hd][data_row[str(hd)]] == -1):\n",
        "      Dict[hd][data_row[str(hd)]] = len(Dict) - 1\n",
        "    data_row[str(hd)] = Dict[hd][data_row[str(hd)]]\n",
        "    # print(data_row[str(hd)])\n",
        "  print(\"Student \" + str(i))\n",
        "  pred = get_key(dtree.predict([data_row[features[:-1]]])[0])\n",
        "  actu = df_test.loc[i][-1]\n",
        "  if (pred == actu):\n",
        "    fre += 1\n",
        "  print(\"Prediction \" + str(pred) + \" | \" + \"Actually \" + str(actu))\n",
        "\n",
        "print(\"Frequency = \" + str(fre / len(df_test) * 100) + \"%\")"
      ],
      "metadata": {
        "colab": {
          "base_uri": "https://localhost:8080/"
        },
        "id": "Feys3WITaue5",
        "outputId": "465aa14f-c68d-4c72-ed15-6607dffcce7d"
      },
      "execution_count": null,
      "outputs": [
        {
          "output_type": "stream",
          "name": "stdout",
          "text": [
            "Student 261\n",
            "Prediction Pass | Actually Pass\n",
            "Student 262\n",
            "Prediction Fail | Actually Fail\n",
            "Student 263\n",
            "Prediction Fail | Actually Fail\n",
            "Student 264\n",
            "Prediction Pass | Actually Pass\n",
            "Student 265\n",
            "Prediction Pass | Actually Pass\n",
            "Student 266\n",
            "Prediction Pass | Actually Pass\n",
            "Student 267\n",
            "Prediction Pass | Actually Pass\n",
            "Student 268\n",
            "Prediction Pass | Actually Pass\n",
            "Student 269\n",
            "Prediction Fail | Actually Fail\n",
            "Student 270\n",
            "Prediction Fail | Actually Fail\n",
            "Student 271\n",
            "Prediction Fail | Actually Fail\n",
            "Student 272\n",
            "Prediction Fail | Actually Fail\n",
            "Student 273\n",
            "Prediction Pass | Actually Fail\n",
            "Student 274\n",
            "Prediction Pass | Actually Pass\n",
            "Student 275\n",
            "Prediction Pass | Actually Fail\n",
            "Student 276\n",
            "Prediction Fail | Actually Fail\n",
            "Student 277\n",
            "Prediction Pass | Actually Pass\n",
            "Student 278\n",
            "Prediction Fail | Actually Fail\n",
            "Student 279\n",
            "Prediction Pass | Actually Pass\n",
            "Student 280\n",
            "Prediction Pass | Actually Pass\n",
            "Student 281\n",
            "Prediction Pass | Actually Pass\n",
            "Student 282\n",
            "Prediction Fail | Actually Fail\n",
            "Student 283\n",
            "Prediction Pass | Actually Pass\n",
            "Student 284\n",
            "Prediction Fail | Actually Fail\n",
            "Student 285\n",
            "Prediction Pass | Actually Pass\n",
            "Student 286\n",
            "Prediction Pass | Actually Pass\n",
            "Student 287\n",
            "Prediction Pass | Actually Pass\n",
            "Student 288\n",
            "Prediction Fail | Actually Pass\n",
            "Student 289\n",
            "Prediction Pass | Actually Pass\n",
            "Student 290\n",
            "Prediction Pass | Actually Pass\n",
            "Student 291\n",
            "Prediction Pass | Actually Pass\n",
            "Student 292\n",
            "Prediction Pass | Actually Pass\n",
            "Student 293\n",
            "Prediction Pass | Actually Pass\n",
            "Student 294\n",
            "Prediction Pass | Actually Pass\n",
            "Student 295\n",
            "Prediction Fail | Actually Pass\n",
            "Student 296\n",
            "Prediction Pass | Actually Pass\n",
            "Student 297\n",
            "Prediction Pass | Actually Pass\n",
            "Student 298\n",
            "Prediction Pass | Actually Pass\n",
            "Student 299\n",
            "Prediction Pass | Actually Pass\n",
            "Student 300\n",
            "Prediction Pass | Actually Pass\n",
            "Student 301\n",
            "Prediction Pass | Actually Pass\n",
            "Student 302\n",
            "Prediction Fail | Actually Fail\n",
            "Student 303\n",
            "Prediction Pass | Actually Pass\n",
            "Student 304\n",
            "Prediction Pass | Actually Pass\n",
            "Student 305\n",
            "Prediction Pass | Actually Pass\n",
            "Student 306\n",
            "Prediction Pass | Actually Pass\n",
            "Student 307\n",
            "Prediction Fail | Actually Fail\n",
            "Student 308\n",
            "Prediction Pass | Actually Pass\n",
            "Student 309\n",
            "Prediction Pass | Actually Pass\n",
            "Student 310\n",
            "Prediction Pass | Actually Pass\n",
            "Student 311\n",
            "Prediction Fail | Actually Fail\n",
            "Student 312\n",
            "Prediction Pass | Actually Pass\n",
            "Student 313\n",
            "Prediction Fail | Actually Fail\n",
            "Student 314\n",
            "Prediction Fail | Actually Fail\n",
            "Student 315\n",
            "Prediction Pass | Actually Pass\n",
            "Student 316\n",
            "Prediction Pass | Actually Pass\n",
            "Student 317\n",
            "Prediction Fail | Actually Fail\n",
            "Student 318\n",
            "Prediction Pass | Actually Pass\n",
            "Student 319\n",
            "Prediction Fail | Actually Fail\n",
            "Student 320\n",
            "Prediction Pass | Actually Pass\n",
            "Student 321\n",
            "Prediction Pass | Actually Pass\n",
            "Student 322\n",
            "Prediction Pass | Actually Pass\n",
            "Student 323\n",
            "Prediction Pass | Actually Pass\n",
            "Student 324\n",
            "Prediction Pass | Actually Pass\n",
            "Student 325\n",
            "Prediction Fail | Actually Fail\n",
            "Frequency = 93.84615384615384%\n"
          ]
        }
      ]
    }
  ]
}