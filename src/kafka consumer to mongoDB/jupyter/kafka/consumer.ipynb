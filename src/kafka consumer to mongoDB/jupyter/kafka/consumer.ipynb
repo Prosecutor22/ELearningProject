﻿{
  "metadata": {
    "name": "consumer",
    "kernelspec": {
      "language": "scala",
      "name": "spark2-scala"
    },
    "language_info": {
      "codemirror_mode": "text/x-scala",
      "file_extension": ".scala",
      "mimetype": "text/x-scala",
      "name": "scala",
      "pygments_lexer": "scala"
    }
  },
  "nbformat": 4,
  "nbformat_minor": 2,
  "cells": [
    {
      "cell_type": "code",
      "execution_count": 0,
      "metadata": {
        "autoscroll": "auto"
      },
      "outputs": [],
      "source": "%jupyter(kernel\u003dpython)\n\nfrom kafka import KafkaConsumer\n\nbroker_uri \u003d \"broker-1:29091\"\n\nconsumer \u003d KafkaConsumer(\u0027MINHPP\u0027, bootstrap_servers\u003d[broker_uri])"
    },
    {
      "cell_type": "code",
      "execution_count": 1,
      "metadata": {
        "autoscroll": "auto"
      },
      "outputs": [],
      "source": "%jupyter(kernel\u003dpython)\r\ndef decodeString(line):\r\n    line \u003d line[2: -2]\r\n    line \u003d line.replace(\":\", \",\")\r\n    line \u003d line.replace(\", \", \",\")\r\n    line \u003d line.replace(\"\u0027\", \"\")\r\n    data \u003d line.split(\u0027,\u0027)\r\n    data[-1] \u003d int(data[-1])\r\n    data[-2] \u003d int(data[-2])\r\n    new_lis1 \u003d data[0:4]\r\n    new_lis2 \u003d data[4:8]\r\n    new_dict \u003d {new_lis1[i]: new_lis2[i] for i in range(len(new_lis1))}\r\n    return new_dict"
    },
    {
      "cell_type": "code",
      "execution_count": 2,
      "metadata": {
        "autoscroll": "auto"
      },
      "outputs": [],
      "source": "%jupyter(kernel\u003dpython)\nimport pandas as pd\nobj \u003d {\u0027RollNumber\u0027: [], \u0027ApplicantName\u0027: [], \u0027Online C\u0027: [], \u0027Online O\u0027: []}\nfor message in consumer:\n    print(message.value)\n    if message.value \u003d\u003d \u0027End\u0027:\n        break\n    else: \n        line \u003d message.value.decode()\n        new_dict \u003d decodeString(line)\n        obj[\u0027RollNumber\u0027].append(new_dict[\u0027RollNumber\u0027])\n        obj[\u0027ApplicantName\u0027].append(new_dict[\u0027ApplicantName\u0027])\n        obj[\u0027Online C\u0027].append(new_dict[\u0027Online C\u0027])\n        obj[\u0027Online O\u0027].append(new_dict[\u0027Online O\u0027])\n"
    },
    {
      "cell_type": "code",
      "execution_count": 3,
      "metadata": {
        "autoscroll": "auto"
      },
      "outputs": [],
      "source": "%jupyter(kernel\u003dpython)\ndf \u003d pd.DataFrame(data \u003d obj)\nprint(df)"
    },
    {
      "cell_type": "raw",
      "metadata": {
        "format": "text/plain"
      },
      "source": "%jupyter\n"
    },
    {
      "cell_type": "raw",
      "metadata": {
        "format": "text/plain"
      },
      "source": "%jupyter\n"
    },
    {
      "cell_type": "raw",
      "metadata": {
        "format": "text/plain"
      },
      "source": "%jupyter\n"
    }
  ]
}