﻿{
  "metadata": {
    "name": "producer",
    "kernelspec": {
      "language": "scala",
      "name": "spark2-scala"
    },
    "language_info": {
      "codemirror_mode": "text/x-scala",
      "file_extension": ".scala",
      "mimetype": "text/x-scala",
      "name": "scala",
      "pygments_lexer": "scala"
    }
  },
  "nbformat": 4,
  "nbformat_minor": 2,
  "cells": [
    {
      "cell_type": "code",
      "execution_count": 0,
      "metadata": {
        "autoscroll": "auto"
      },
      "outputs": [],
      "source": "%sh\npip3 show kafka-python"
    },
    {
      "cell_type": "code",
      "execution_count": 1,
      "metadata": {
        "autoscroll": "auto"
      },
      "outputs": [],
      "source": "%jupyter(kernel\u003dpython)\n\nfrom kafka import KafkaAdminClient\n\nbroker_uri \u003d \"broker-1:29091\"\n\nclient \u003d KafkaAdminClient(bootstrap_servers\u003d[broker_uri])\n"
    },
    {
      "cell_type": "code",
      "execution_count": 2,
      "metadata": {
        "autoscroll": "auto"
      },
      "outputs": [],
      "source": "%jupyter(kernel\u003dpython)\nfrom kafka.admin import NewTopic\n\nnew_topic \u003d NewTopic(\u0027minhpp\u0027, num_partitions \u003d 5, replication_factor \u003d 1)\n\nclient.create_topics([new_topic])\n\n"
    },
    {
      "cell_type": "code",
      "execution_count": 3,
      "metadata": {
        "autoscroll": "auto"
      },
      "outputs": [],
      "source": "%jupyter(kernel\u003dpython)\n\nfrom kafka import KafkaProducer\n\nproducer \u003d KafkaProducer(bootstrap_servers\u003d[broker_uri])\n\nclient.describe_topics([\u0027minhpp\u0027])"
    },
    {
      "cell_type": "code",
      "execution_count": 4,
      "metadata": {
        "autoscroll": "auto"
      },
      "outputs": [],
      "source": "%sh\npip3 install confluent_kafka"
    },
    {
      "cell_type": "code",
      "execution_count": 5,
      "metadata": {
        "autoscroll": "auto"
      },
      "outputs": [],
      "source": "%jupyter(kernel\u003dpython)\nimport csv\nwith open(\u0027df.csv\u0027) as file:\n    reader \u003d csv.DictReader(file, delimiter\u003d\";\")\n    for row in reader:\n        s \u003d str(row)\n        producer.send(\u0027MINHPP\u0027, value \u003d s.encode(), key \u003d b\u0027user-0\u0027)\nproducer.send(\u0027MINHPP\u0027, value \u003d b\u0027End\u0027, key \u003d b\u0027user-0\u0027)\n"
    },
    {
      "cell_type": "raw",
      "metadata": {
        "format": "text/plain"
      },
      "source": "%jupyter\n"
    }
  ]
}